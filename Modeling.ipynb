{
 "cells": [
  {
   "cell_type": "code",
   "execution_count": 55,
   "metadata": {},
   "outputs": [],
   "source": [
    "import math\n",
    "import seaborn as sns\n",
    "import matplotlib.pyplot as plt\n",
    "import pandas as pd\n",
    "import numpy as np\n",
    "import csv\n",
    "import re\n",
    "from sklearn.preprocessing import OneHotEncoder\n",
    "from sklearn.model_selection import train_test_split\n",
    "from sklearn import linear_model\n",
    "from sklearn import preprocessing\n",
    "from sklearn.metrics import mean_squared_error"
   ]
  },
  {
   "cell_type": "code",
   "execution_count": 81,
   "metadata": {},
   "outputs": [
    {
     "name": "stdout",
     "output_type": "stream",
     "text": [
      "   Beds  Baths  SquareFeet  Library  Fitness Center  Location_Central  \\\n",
      "0     2    2.0         910        0               1                 0   \n",
      "1     2    2.0        1025        0               1                 0   \n",
      "2     4    4.5        1911        0               0                 0   \n",
      "3     2    2.0         819        0               1                 0   \n",
      "4     2    2.0         819        0               1                 0   \n",
      "\n",
      "   Location_East  Location_North  Location_South  Location_West  \n",
      "0              0               0               1              0  \n",
      "1              0               0               1              0  \n",
      "2              0               0               1              0  \n",
      "3              1               0               0              0  \n",
      "4              1               0               0              0  \n"
     ]
    }
   ],
   "source": [
    "df_temp = pd.read_csv(\"datasetFinal.csv\")\n",
    "df = pd.get_dummies(df_temp,columns=[\"Location\"])\n",
    "y = df[\"Cost\"]\n",
    "X = df.drop(columns = [\"ApartmentName\",\"URL\",\"Cost\",\"Distance\"])\n",
    "print(X.head())\n",
    "#X_train, X_test, y_train, y_test = train_test_split(X,y, test_size=0.2, random_state=42)\n",
    "X = preprocessing.normalize(X, norm='l2')"
   ]
  },
  {
   "cell_type": "code",
   "execution_count": 57,
   "metadata": {},
   "outputs": [],
   "source": [
    "model_errors = {}"
   ]
  },
  {
   "cell_type": "code",
   "execution_count": 84,
   "metadata": {},
   "outputs": [
    {
     "name": "stdout",
     "output_type": "stream",
     "text": [
      "1475.5651940703392\n",
      "1480.036690711975\n",
      "1471.952822253108\n",
      "1489.0148457884789\n",
      "1479.5836634337902\n",
      "1474.0221949666739\n",
      "1455.6432859301567\n",
      "1501.5536625683308\n",
      "1459.6827386170626\n",
      "1501.7536103576422\n",
      "1467.838426336646\n",
      "1469.1827015578747\n",
      "1471.5583350360394\n",
      "1507.6916576772928\n",
      "1492.8818286508322\n",
      "1479.689660936594\n",
      "1497.2739795446396\n",
      "1473.4901660978794\n",
      "1482.749999448657\n",
      "1500.4045447558165\n",
      "1469.237910747528\n",
      "1511.167097747326\n",
      "1495.3005810081959\n",
      "1476.200273424387\n",
      "1452.8338309079409\n",
      "1470.6123397946358\n",
      "1473.6177780926228\n",
      "1470.401535242796\n",
      "1467.4603121876717\n",
      "1495.1805801987648\n"
     ]
    }
   ],
   "source": [
    "#Ordinary Least Square\n",
    "avg_sqr_error = 0.0\n",
    "ntimes = 30\n",
    "for i in range(ntimes):\n",
    "    # train model with 80% of the data\n",
    "    X_train, X_test, y_train, y_test = train_test_split(X, y, test_size=0.2)\n",
    "\n",
    "    # prediction\n",
    "    model = linear_model.LinearRegression()\n",
    "    model.fit(X_train,y_train)\n",
    "    predictions = model.predict(X_test)\n",
    "    X_predict = [[2,2.0,1200,0,1,0,0,0,1,0]]\n",
    "    X_norm = preprocessing.normalize(X_predict, norm='l2')\n",
    "    print(model.predict(X_norm)[0])\n",
    "\n",
    "    # compute model accuracy\n",
    "    avg_sqr_error += mean_squared_error(y_test, predictions)\n",
    "\n",
    "avg_sqr_error /= ntimes\n",
    "model_errors[\"Ordinary Least Square\"] = avg_sqr_error"
   ]
  },
  {
   "cell_type": "code",
   "execution_count": 59,
   "metadata": {},
   "outputs": [
    {
     "data": {
      "text/plain": [
       "array([ 1.47129403e+04, -3.76150100e+04, -1.06398451e+08, -9.53389432e+05,\n",
       "        2.44165969e+05, -1.19283374e+06, -1.64813838e+06, -1.38702623e+06,\n",
       "       -1.52697670e+06, -4.07041522e+05])"
      ]
     },
     "execution_count": 59,
     "metadata": {},
     "output_type": "execute_result"
    }
   ],
   "source": [
    "X_train, X_test, y_train, y_test = train_test_split(X, y, test_size=0.2)\n",
    "model = linear_model.LinearRegression()\n",
    "model.fit(X_train,y_train)\n",
    "model.coef_"
   ]
  },
  {
   "cell_type": "code",
   "execution_count": 60,
   "metadata": {},
   "outputs": [],
   "source": [
    "#Ridge Regression\n",
    "avg_sqr_error = 0.0\n",
    "ntimes = 30\n",
    "for i in range(ntimes):\n",
    "    # train model with 80% of the data\n",
    "    X_train, X_test, y_train, y_test = train_test_split(X, y, test_size=0.2)\n",
    "\n",
    "    # prediction\n",
    "    model = linear_model.LinearRegression()\n",
    "    model.fit(X_train,y_train)\n",
    "    predictions = model.predict(X_test)\n",
    "\n",
    "    # compute model accuracy\n",
    "    avg_sqr_error += mean_squared_error(y_test, predictions)\n",
    "\n",
    "avg_sqr_error /= ntimes\n",
    "model_errors[\"Ridge Regression\"] = avg_sqr_error"
   ]
  },
  {
   "cell_type": "code",
   "execution_count": 61,
   "metadata": {},
   "outputs": [],
   "source": [
    "#Lasso\n",
    "avg_sqr_error = 0.0\n",
    "ntimes = 30\n",
    "for i in range(ntimes):\n",
    "    # train model with 80% of the data\n",
    "    X_train, X_test, y_train, y_test = train_test_split(X, y, test_size=0.2)\n",
    "\n",
    "    # prediction\n",
    "    model = linear_model.LinearRegression()\n",
    "    model.fit(X_train,y_train)\n",
    "    predictions = model.predict(X_test)\n",
    "\n",
    "    # compute model accuracy\n",
    "    avg_sqr_error += mean_squared_error(y_test, predictions)\n",
    "\n",
    "avg_sqr_error /= ntimes\n",
    "model_errors[\"Lasso\"] = avg_sqr_error"
   ]
  },
  {
   "cell_type": "code",
   "execution_count": 62,
   "metadata": {},
   "outputs": [],
   "source": [
    "#LARS Lasso\n",
    "avg_sqr_error = 0.0\n",
    "ntimes = 30\n",
    "for i in range(ntimes):\n",
    "    # train model with 80% of the data\n",
    "    X_train, X_test, y_train, y_test = train_test_split(X, y, test_size=0.2)\n",
    "\n",
    "    # prediction\n",
    "    model = linear_model.LinearRegression()\n",
    "    model.fit(X_train,y_train)\n",
    "    predictions = model.predict(X_test)\n",
    "\n",
    "    # compute model accuracy\n",
    "    avg_sqr_error += mean_squared_error(y_test, predictions)\n",
    "\n",
    "avg_sqr_error /= ntimes\n",
    "model_errors[\"LARS Lasso\"] = avg_sqr_error"
   ]
  },
  {
   "cell_type": "code",
   "execution_count": 63,
   "metadata": {},
   "outputs": [],
   "source": [
    "#Bayesian Regression\n",
    "avg_sqr_error = 0.0\n",
    "ntimes = 30\n",
    "for i in range(ntimes):\n",
    "    # train model with 80% of the data\n",
    "    X_train, X_test, y_train, y_test = train_test_split(X, y, test_size=0.2)\n",
    "\n",
    "    # prediction\n",
    "    model = linear_model.LinearRegression()\n",
    "    model.fit(X_train,y_train)\n",
    "    predictions = model.predict(X_test)\n",
    "\n",
    "    # compute model accuracy\n",
    "    avg_sqr_error += mean_squared_error(y_test, predictions)\n",
    "\n",
    "avg_sqr_error /= ntimes\n",
    "model_errors[\"Bayesian Regression\"] = avg_sqr_error"
   ]
  },
  {
   "cell_type": "code",
   "execution_count": 64,
   "metadata": {},
   "outputs": [
    {
     "data": {
      "text/plain": [
       "{'Ordinary Least Square': 191415.48434967027,\n",
       " 'Ridge Regression': 190199.15726334587,\n",
       " 'Lasso': 190587.52930854037,\n",
       " 'LARS Lasso': 194836.12559856483,\n",
       " 'Bayesian Regression': 186234.89034266156}"
      ]
     },
     "execution_count": 64,
     "metadata": {},
     "output_type": "execute_result"
    }
   ],
   "source": [
    "model_errors"
   ]
  },
  {
   "cell_type": "code",
   "execution_count": null,
   "metadata": {},
   "outputs": [],
   "source": []
  },
  {
   "cell_type": "code",
   "execution_count": null,
   "metadata": {},
   "outputs": [],
   "source": []
  }
 ],
 "metadata": {
  "kernelspec": {
   "display_name": "Python 3",
   "language": "python",
   "name": "python3"
  },
  "language_info": {
   "codemirror_mode": {
    "name": "ipython",
    "version": 3
   },
   "file_extension": ".py",
   "mimetype": "text/x-python",
   "name": "python",
   "nbconvert_exporter": "python",
   "pygments_lexer": "ipython3",
   "version": "3.8.3"
  }
 },
 "nbformat": 4,
 "nbformat_minor": 4
}
