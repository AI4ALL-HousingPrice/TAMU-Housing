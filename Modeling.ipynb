{
 "cells": [
  {
   "cell_type": "code",
   "execution_count": 84,
   "metadata": {},
   "outputs": [],
   "source": [
    "import math\n",
    "import seaborn as sns\n",
    "import matplotlib.pyplot as plt\n",
    "import pandas as pd\n",
    "import numpy as np\n",
    "import csv\n",
    "import re\n",
    "from sklearn.preprocessing import OneHotEncoder\n",
    "from sklearn.model_selection import train_test_split\n",
    "from sklearn import linear_model\n",
    "from sklearn import preprocessing\n",
    "from sklearn.metrics import mean_squared_error"
   ]
  },
  {
   "cell_type": "code",
   "execution_count": null,
   "metadata": {},
   "outputs": [],
   "source": [
    "df_temp = pd.read_csv(\"datasetFinal.csv\")\n",
    "df = pd.get_dummies(df_temp,columns=[\"Location\"])\n",
    "y = df[\"Cost\"]\n",
    "X = df.drop(columns = [\"ApartmentName\",\"URL\",\"Cost\",\"Distance\"])\n",
    "#X_train, X_test, y_train, y_test = train_test_split(X,y, test_size=0.2, random_state=42)\n",
    "X = preprocessing.normalize(X, norm='l2')"
   ]
  },
  {
   "cell_type": "code",
   "execution_count": 90,
   "metadata": {},
   "outputs": [],
   "source": [
    "model_errors = {}"
   ]
  },
  {
   "cell_type": "code",
   "execution_count": 91,
   "metadata": {},
   "outputs": [],
   "source": [
    "#Ordinary Least Square\n",
    "avg_sqr_error = 0.0\n",
    "ntimes = 30\n",
    "for i in range(ntimes):\n",
    "    # train model with 80% of the data\n",
    "    X_train, X_test, y_train, y_test = train_test_split(X, y, test_size=0.2)\n",
    "\n",
    "    # prediction\n",
    "    model = linear_model.LinearRegression()\n",
    "    model.fit(X_train,y_train)\n",
    "    predictions = model.predict(X_test)\n",
    "\n",
    "    # compute model accuracy\n",
    "    avg_sqr_error += mean_squared_error(y_test, predictions)\n",
    "\n",
    "avg_sqr_error /= ntimes\n",
    "model_errors[\"Ordinary Least Square\"] = avg_sqr_error"
   ]
  },
  {
   "cell_type": "code",
   "execution_count": 92,
   "metadata": {},
   "outputs": [
    {
     "data": {
      "text/plain": [
       "array([1.13671171e+06, 1.28016041e+06, 4.15128314e+08, 5.71259140e+05,\n",
       "       1.60827024e+05])"
      ]
     },
     "execution_count": 92,
     "metadata": {},
     "output_type": "execute_result"
    }
   ],
   "source": [
    "X_train, X_test, y_train, y_test = train_test_split(X, y, test_size=0.2)\n",
    "model = linear_model.LinearRegression()\n",
    "model.fit(X_train,y_train)\n",
    "model.coef_"
   ]
  },
  {
   "cell_type": "code",
   "execution_count": 93,
   "metadata": {},
   "outputs": [],
   "source": [
    "#Ridge Regression\n",
    "avg_sqr_error = 0.0\n",
    "ntimes = 30\n",
    "for i in range(ntimes):\n",
    "    # train model with 80% of the data\n",
    "    X_train, X_test, y_train, y_test = train_test_split(X, y, test_size=0.2)\n",
    "\n",
    "    # prediction\n",
    "    model = linear_model.LinearRegression()\n",
    "    model.fit(X_train,y_train)\n",
    "    predictions = model.predict(X_test)\n",
    "\n",
    "    # compute model accuracy\n",
    "    avg_sqr_error += mean_squared_error(y_test, predictions)\n",
    "\n",
    "avg_sqr_error /= ntimes\n",
    "model_errors[\"Ridge Regression\"] = avg_sqr_error"
   ]
  },
  {
   "cell_type": "code",
   "execution_count": 94,
   "metadata": {},
   "outputs": [],
   "source": [
    "#Lasso\n",
    "avg_sqr_error = 0.0\n",
    "ntimes = 30\n",
    "for i in range(ntimes):\n",
    "    # train model with 80% of the data\n",
    "    X_train, X_test, y_train, y_test = train_test_split(X, y, test_size=0.2)\n",
    "\n",
    "    # prediction\n",
    "    model = linear_model.LinearRegression()\n",
    "    model.fit(X_train,y_train)\n",
    "    predictions = model.predict(X_test)\n",
    "\n",
    "    # compute model accuracy\n",
    "    avg_sqr_error += mean_squared_error(y_test, predictions)\n",
    "\n",
    "avg_sqr_error /= ntimes\n",
    "model_errors[\"Lasso\"] = avg_sqr_error"
   ]
  },
  {
   "cell_type": "code",
   "execution_count": 95,
   "metadata": {},
   "outputs": [],
   "source": [
    "#LARS Lasso\n",
    "avg_sqr_error = 0.0\n",
    "ntimes = 30\n",
    "for i in range(ntimes):\n",
    "    # train model with 80% of the data\n",
    "    X_train, X_test, y_train, y_test = train_test_split(X, y, test_size=0.2)\n",
    "\n",
    "    # prediction\n",
    "    model = linear_model.LinearRegression()\n",
    "    model.fit(X_train,y_train)\n",
    "    predictions = model.predict(X_test)\n",
    "\n",
    "    # compute model accuracy\n",
    "    avg_sqr_error += mean_squared_error(y_test, predictions)\n",
    "\n",
    "avg_sqr_error /= ntimes\n",
    "model_errors[\"LARS Lasso\"] = avg_sqr_error"
   ]
  },
  {
   "cell_type": "code",
   "execution_count": 96,
   "metadata": {},
   "outputs": [],
   "source": [
    "#Bayesian Regression\n",
    "avg_sqr_error = 0.0\n",
    "ntimes = 30\n",
    "for i in range(ntimes):\n",
    "    # train model with 80% of the data\n",
    "    X_train, X_test, y_train, y_test = train_test_split(X, y, test_size=0.2)\n",
    "\n",
    "    # prediction\n",
    "    model = linear_model.LinearRegression()\n",
    "    model.fit(X_train,y_train)\n",
    "    predictions = model.predict(X_test)\n",
    "\n",
    "    # compute model accuracy\n",
    "    avg_sqr_error += mean_squared_error(y_test, predictions)\n",
    "\n",
    "avg_sqr_error /= ntimes\n",
    "model_errors[\"Bayesian Regression\"] = avg_sqr_error"
   ]
  },
  {
   "cell_type": "code",
   "execution_count": 97,
   "metadata": {},
   "outputs": [
    {
     "data": {
      "text/plain": [
       "{'Ordinary Least Square': 331772.8631366293,\n",
       " 'Ridge Regression': 318223.25742156996,\n",
       " 'Lasso': 331465.4753278316,\n",
       " 'LARS Lasso': 322973.4012678448,\n",
       " 'Bayesian Regression': 324738.97194684256}"
      ]
     },
     "execution_count": 97,
     "metadata": {},
     "output_type": "execute_result"
    }
   ],
   "source": [
    "model_errors"
   ]
  },
  {
   "cell_type": "code",
   "execution_count": null,
   "metadata": {},
   "outputs": [],
   "source": []
  },
  {
   "cell_type": "code",
   "execution_count": null,
   "metadata": {},
   "outputs": [],
   "source": []
  }
 ],
 "metadata": {
  "kernelspec": {
   "display_name": "Python 3",
   "language": "python",
   "name": "python3"
  },
  "language_info": {
   "codemirror_mode": {
    "name": "ipython",
    "version": 3
   },
   "file_extension": ".py",
   "mimetype": "text/x-python",
   "name": "python",
   "nbconvert_exporter": "python",
   "pygments_lexer": "ipython3",
   "version": "3.8.3"
  }
 },
 "nbformat": 4,
 "nbformat_minor": 4
}
